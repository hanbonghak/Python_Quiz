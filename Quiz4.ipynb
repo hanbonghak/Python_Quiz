{
 "cells": [
  {
   "cell_type": "code",
   "execution_count": 12,
   "metadata": {},
   "outputs": [
    {
     "name": "stdout",
     "output_type": "stream",
     "text": [
      "5\n",
      "7\n",
      "3 8\n",
      "8 1 0\n",
      "2 7 4 4\n",
      "4 5 2 6 5\n",
      "[[7], [3, 8], [8, 1, 0], [2, 7, 4, 4], [4, 5, 2, 6, 5]]\n",
      "수행 시간: 0.000000초\n",
      "결과 값: 30\n"
     ]
    }
   ],
   "source": [
    "import copy\n",
    "import time \n",
    "H = int(input())\n",
    "int_triangle = []\n",
    "for i in range(H):\n",
    "    input_ = input()\n",
    "    line = list(map(int, input_.split(' ')))\n",
    "    assert len(line) == i + 1\n",
    "    int_triangle.append(line)\n",
    "\n",
    "print(int_triangle)\n",
    "\n",
    "def reduced_triangle(int_triangle, level) :\n",
    "    for i in range(level) :\n",
    "        int_triangle[level-1][i] += max(int_triangle[level][i],int_triangle[level][i+1])\n",
    "    return int_triangle\n",
    "\n",
    "def main(H, int_triangle) :\n",
    "    triangle = copy.deepcopy(int_triangle)\n",
    "    for i in range(H-1,0,-1) :\n",
    "        reduced_triangle(triangle,i)\n",
    "        if i == 0:\n",
    "            break\n",
    "        else :\n",
    "            del(triangle[i])\n",
    "    return triangle \n",
    "\n",
    "if __name__ == '__main__' :\n",
    "    s = time.time() \n",
    "    result = main(H, int_triangle)\n",
    "    e = time.time() \n",
    "    print(\"수행 시간: {0:3.6f}초\".format(e-s))\n",
    "    print(\"결과 값: {}\".format(result[0][0]))\n"
   ]
  },
  {
   "cell_type": "code",
   "execution_count": null,
   "metadata": {},
   "outputs": [],
   "source": []
  }
 ],
 "metadata": {
  "kernelspec": {
   "display_name": "Python 3",
   "language": "python",
   "name": "python3"
  },
  "language_info": {
   "codemirror_mode": {
    "name": "ipython",
    "version": 3
   },
   "file_extension": ".py",
   "mimetype": "text/x-python",
   "name": "python",
   "nbconvert_exporter": "python",
   "pygments_lexer": "ipython3",
   "version": "3.8.3"
  }
 },
 "nbformat": 4,
 "nbformat_minor": 4
}
